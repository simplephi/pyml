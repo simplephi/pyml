{
  "nbformat": 4,
  "nbformat_minor": 0,
  "metadata": {
    "colab": {
      "name": "product-machine.ipynb",
      "provenance": [],
      "collapsed_sections": [],
      "toc_visible": true
    },
    "kernelspec": {
      "display_name": "Python 3",
      "name": "python3"
    }
  },
  "cells": [
    {
      "cell_type": "code",
      "metadata": {
        "id": "a2SjdsPKkg4m"
      },
      "source": [
        "import pandas as pd\r\n",
        "\r\n",
        "df = pd.read_json('cameras.json.gz', compression='gzip', lines=True)\r\n",
        "df.head()"
      ],
      "execution_count": null,
      "outputs": []
    },
    {
      "cell_type": "markdown",
      "metadata": {
        "id": "TLnf2vVWEBAa"
      },
      "source": [
        "# Explanatory Data Analysis"
      ]
    },
    {
      "cell_type": "code",
      "metadata": {
        "id": "OV9lNHcewbj1"
      },
      "source": [
        "df.label = df.label.astype('object')"
      ],
      "execution_count": null,
      "outputs": []
    },
    {
      "cell_type": "code",
      "metadata": {
        "id": "F77veF9fwy2i"
      },
      "source": [
        "df.info()"
      ],
      "execution_count": null,
      "outputs": []
    },
    {
      "cell_type": "code",
      "metadata": {
        "id": "JwhN1JqGxFJv"
      },
      "source": [
        "df.brand_left.value_counts()"
      ],
      "execution_count": null,
      "outputs": []
    },
    {
      "cell_type": "code",
      "metadata": {
        "id": "FVBzNWGQDRte"
      },
      "source": [
        "# pd.crosstab(data.brand_left, [data.label, data.brand_right])\r\n",
        "df.pivot_table(\r\n",
        "    columns='brand_left',\r\n",
        "    index=['label', 'brand_right'],\r\n",
        "    aggfunc='count',\r\n",
        "    margins=True\r\n",
        ")"
      ],
      "execution_count": null,
      "outputs": []
    },
    {
      "cell_type": "markdown",
      "metadata": {
        "id": "OMgcDOYBD3Vz"
      },
      "source": [
        "Cek Apa yang beda di Action Outdoor"
      ]
    },
    {
      "cell_type": "code",
      "metadata": {
        "id": "QqEhbyadDWci"
      },
      "source": [
        "# Bisa tes 1-5 produk karna diatas ada 5\r\n",
        "df[(df.brand_left=='action outdoor')&(df.brand_right=='action outdoor')&(df.label==0)].title_left.iloc[0]"
      ],
      "execution_count": null,
      "outputs": []
    },
    {
      "cell_type": "code",
      "metadata": {
        "id": "Cnj6kBnRDx_s"
      },
      "source": [
        "# Bisa tes 1-5 produk karna diatas ada 5\r\n",
        "df[(df.brand_left=='action outdoor')&(df.brand_right=='action outdoor')&(df.label==0)].title_right.iloc[0]"
      ],
      "execution_count": null,
      "outputs": []
    },
    {
      "cell_type": "code",
      "metadata": {
        "id": "XWY0FjVgD0vc"
      },
      "source": [
        "# Contoh sample yang sama\r\n",
        "print('Sample of Match Product')\r\n",
        "temp = df[df.label == 1].sample(1)\r\n",
        "print(temp.title_left.iloc[0])\r\n",
        "print(temp.title_right.iloc[0], '\\n')\r\n",
        "\r\n",
        "print('Sample of Not Match Product')\r\n",
        "temp = df[df.label == 0].sample(1)\r\n",
        "print(temp.title_left.iloc[0])\r\n",
        "print(temp.title_right.iloc[0])"
      ],
      "execution_count": null,
      "outputs": []
    },
    {
      "cell_type": "code",
      "metadata": {
        "id": "Fbippq2PXD8P"
      },
      "source": [
        "from nltk import ngrams\r\n",
        "\r\n",
        "def find_common(text1, text2, ngram):\r\n",
        "\r\n",
        "  text1 = ngrams(text1.split(), ngram)\r\n",
        "  text1 = [' '.join(grams) for grams in text1]\r\n",
        "\r\n",
        "  text2 = ngrams(text2.split(), ngram)\r\n",
        "  text2 = [' '.join(grams) for grams in text2]\r\n",
        "\r\n",
        "  common = set(text1).intersection(text2)\r\n",
        "\r\n",
        "  return list(common)"
      ],
      "execution_count": null,
      "outputs": []
    },
    {
      "cell_type": "code",
      "metadata": {
        "id": "794l0U5Uaa5y"
      },
      "source": [
        "# Cari kata yang sama dari kalimat\r\n",
        "find_common('sepatu olahraga indonesia', 'sepatu puma dari indonesia', 2)"
      ],
      "execution_count": null,
      "outputs": []
    },
    {
      "cell_type": "code",
      "metadata": {
        "id": "5Nr0q6N8YrVi"
      },
      "source": [
        "temp = df.copy()\r\n",
        "temp = temp[['title_left', 'title_right', 'label']]\r\n",
        "\r\n",
        "temp['title_left_len']  = temp.title_left.apply(lambda x: len(x.split()))\r\n",
        "temp['title_right_len'] = temp.title_right.apply(lambda x: len(x.split()))\r\n",
        "temp['common_words']    = temp.apply(lambda x: find_common(x['title_left'], x['title_right'], 1), axis=1)\r\n",
        "temp['common_words_len']= temp.common_words.apply(lambda x: len(x))"
      ],
      "execution_count": null,
      "outputs": []
    },
    {
      "cell_type": "code",
      "metadata": {
        "id": "RV0MpHj5ZFTl"
      },
      "source": [
        "temp.describe()"
      ],
      "execution_count": null,
      "outputs": []
    },
    {
      "cell_type": "code",
      "metadata": {
        "id": "pbp99JM5aBGu"
      },
      "source": [
        "temp.pivot_table(\r\n",
        "    columns='label',\r\n",
        "    aggfunc='mean',\r\n",
        ")"
      ],
      "execution_count": null,
      "outputs": []
    },
    {
      "cell_type": "code",
      "metadata": {
        "id": "is64q-R5pNM3"
      },
      "source": [
        "temp[['label', 'common_words_len']].boxplot(by='label', figsize=(10,10))"
      ],
      "execution_count": null,
      "outputs": []
    },
    {
      "cell_type": "code",
      "metadata": {
        "id": "oQ3Uj6bvpVX7"
      },
      "source": [
        "!git clone https://github.com/amueller/word_cloud.git\r\n",
        "!cd word_cloud\r\n",
        "!pip install word_cloud/."
      ],
      "execution_count": null,
      "outputs": []
    },
    {
      "cell_type": "code",
      "metadata": {
        "id": "IZTY43MRpxcP"
      },
      "source": [
        "from wordcloud import WordCloud, STOPWORDS, ImageColorGenerator\r\n",
        "import matplotlib.pyplot as plt\r\n",
        "\r\n",
        "wordcloud = WordCloud(max_font_size=50, max_words=100, background_color=\"white\", width=500, height=500)"
      ],
      "execution_count": null,
      "outputs": []
    },
    {
      "cell_type": "code",
      "metadata": {
        "id": "8UVFNBAhp5Bo"
      },
      "source": [
        "text = \" \".join(title for title in temp.title_left)\r\n",
        "show = wordcloud.generate(text)\r\n",
        "\r\n",
        "# Display the generated image:\r\n",
        "plt.figure(figsize=(20,10))\r\n",
        "plt.imshow(show, interpolation='bilinear')\r\n",
        "plt.axis(\"off\")\r\n",
        "plt.show()"
      ],
      "execution_count": null,
      "outputs": []
    },
    {
      "cell_type": "code",
      "metadata": {
        "id": "yGiXlzJZp7t0"
      },
      "source": [
        "from sklearn.model_selection import train_test_split\r\n",
        "\r\n",
        "train, test = train_test_split(df, test_size=0.2, random_state=10)\r\n",
        "\r\n",
        "print(len(train), len(test))"
      ],
      "execution_count": null,
      "outputs": []
    },
    {
      "cell_type": "code",
      "metadata": {
        "id": "zv_GTeM1rpbL"
      },
      "source": [
        "import re\r\n",
        "\r\n",
        "def preprocessing(text):\r\n",
        "  text = str(text).lower()\r\n",
        "  text = re.sub(r'[^\\w ]', '', text)\r\n",
        "  return text"
      ],
      "execution_count": null,
      "outputs": []
    },
    {
      "cell_type": "code",
      "metadata": {
        "id": "OLj7AuTt9zTw"
      },
      "source": [
        "train['title_left']  = train['title_left'].apply(preprocessing)\r\n",
        "train['title_right'] = train['title_right'].apply(preprocessing)\r\n",
        "test['title_left']   = test['title_left'].apply(preprocessing)\r\n",
        "test['title_right']  = test['title_right'].apply(preprocessing)"
      ],
      "execution_count": null,
      "outputs": []
    },
    {
      "cell_type": "markdown",
      "metadata": {
        "id": "qxgckb07-oBD"
      },
      "source": [
        "# TF-IDF"
      ]
    },
    {
      "cell_type": "code",
      "metadata": {
        "id": "cHsRke01-qju"
      },
      "source": [
        "train_left_title  = train.title_left.tolist()\r\n",
        "train_right_title = train.title_right.tolist()\r\n",
        "train_title       = train_left_title+train_right_title\r\n",
        "train_labels      = train.label.tolist()\r\n",
        "print(len(train_left_title), len(train_right_title), len(train_labels), len(train_title))\r\n",
        "\r\n",
        "test_left_title  = test.title_left.tolist()\r\n",
        "test_right_title = test.title_right.tolist()\r\n",
        "test_title       = test_left_title+test_right_title\r\n",
        "test_labels      = test.label.tolist()\r\n",
        "print(len(test_left_title), len(test_right_title), len(test_labels), len(test_title))"
      ],
      "execution_count": null,
      "outputs": []
    },
    {
      "cell_type": "code",
      "metadata": {
        "id": "bogFQAsF-tn-"
      },
      "source": [
        "# cek masing2 left dan right beserta label nya\r\n",
        "train_left_title[0], train_right_title[0], train_labels[0]"
      ],
      "execution_count": null,
      "outputs": []
    },
    {
      "cell_type": "code",
      "metadata": {
        "id": "gEq9V4sm-2au"
      },
      "source": [
        "from sklearn.feature_extraction.text import TfidfVectorizer\r\n",
        "from sklearn.metrics.pairwise import cosine_similarity\r\n",
        "import numpy as np\r\n",
        "\r\n",
        "def get_similarity(vector):\r\n",
        "    cosine_sim_arr = []\r\n",
        "    n              = int(len(vector) / 2)\r\n",
        "    for i in range(n):\r\n",
        "        j             = i + n\r\n",
        "        cosine_sim    = cosine_similarity([vector[i]], [vector[j]])\r\n",
        "        cosine_sim_arr.append(cosine_sim[0][0])\r\n",
        "    return cosine_sim_arr\r\n",
        "\r\n",
        "vectorizer   = TfidfVectorizer()\r\n",
        "vectorizer.fit(train_title)\r\n",
        "\r\n",
        "train_vector = vectorizer.transform(train_title).toarray()\r\n",
        "test_vector  = vectorizer.transform(test_title).toarray()"
      ],
      "execution_count": null,
      "outputs": []
    },
    {
      "cell_type": "code",
      "metadata": {
        "id": "poc3p0EPAeTe"
      },
      "source": [
        "# cek hasil train\r\n",
        "train_vector[0]"
      ],
      "execution_count": null,
      "outputs": []
    },
    {
      "cell_type": "code",
      "metadata": {
        "id": "N8k9xwzhAjJD"
      },
      "source": [
        "# Misal ada 2 produk, dan memiliki tingkat kesamaan mencapai 70%\r\n",
        "# 70% akan dibulatkan menjadi 0 / 1, sesuai dengan threshold yang kita pilih atau di tentukan"
      ],
      "execution_count": null,
      "outputs": []
    },
    {
      "cell_type": "code",
      "metadata": {
        "id": "iwJD3FRTBvGg"
      },
      "source": [
        "from sklearn import metrics\r\n",
        "\r\n",
        "thresh         = [0.1, 0.2, 0.3, 0.4, 0.5, 0.6, 0.7, 0.8, 0.9]\r\n",
        "cosine_sim_arr = np.array(get_similarity(test_vector))\r\n",
        "best_value     = (-1, -1)\r\n",
        "\r\n",
        "for thrs in thresh:\r\n",
        "    y_pred         = np.where(cosine_sim_arr > thrs, 1, 0)\r\n",
        "    x              = metrics.classification_report(y_pred=y_pred, y_true=test_labels, labels=[0, 1], digits=4, output_dict=True)\r\n",
        "\r\n",
        "    if best_value[1] < x['weighted avg']['f1-score']:\r\n",
        "      best_value = (thrs, x['weighted avg']['f1-score'])\r\n",
        "\r\n",
        "    print(thrs, x['0']['f1-score'], x['1']['f1-score'], x['weighted avg']['f1-score'])\r\n",
        "    print('')\r\n",
        "\r\n",
        "print('best value: ', best_value)"
      ],
      "execution_count": null,
      "outputs": []
    },
    {
      "cell_type": "code",
      "metadata": {
        "id": "od159nsbDSRj"
      },
      "source": [
        ""
      ],
      "execution_count": null,
      "outputs": []
    },
    {
      "cell_type": "code",
      "metadata": {
        "colab": {
          "background_save": true
        },
        "id": "MinSCf6eBw6M",
        "outputId": "aad67377-4cfe-49d8-cb93-ef244f57c25e"
      },
      "source": [
        "pred_label         = np.where(cosine_sim_arr > best_value[0], 1, 0)\r\n",
        "\r\n",
        "temp               = test[['title_left', 'title_right', 'label']].copy()\r\n",
        "temp['pred_label'] = pred_label\r\n",
        "temp.head()"
      ],
      "execution_count": null,
      "outputs": [
        {
          "output_type": "execute_result",
          "data": {
            "text/html": [
              "<div>\n",
              "<style scoped>\n",
              "    .dataframe tbody tr th:only-of-type {\n",
              "        vertical-align: middle;\n",
              "    }\n",
              "\n",
              "    .dataframe tbody tr th {\n",
              "        vertical-align: top;\n",
              "    }\n",
              "\n",
              "    .dataframe thead th {\n",
              "        text-align: right;\n",
              "    }\n",
              "</style>\n",
              "<table border=\"1\" class=\"dataframe\">\n",
              "  <thead>\n",
              "    <tr style=\"text-align: right;\">\n",
              "      <th></th>\n",
              "      <th>title_left</th>\n",
              "      <th>title_right</th>\n",
              "      <th>label</th>\n",
              "      <th>pred_label</th>\n",
              "    </tr>\n",
              "  </thead>\n",
              "  <tbody>\n",
              "    <tr>\n",
              "      <th>1508</th>\n",
              "      <td>fujifilm fp 3000b instant black and white film...</td>\n",
              "      <td>335 camera bag black w black trim</td>\n",
              "      <td>0</td>\n",
              "      <td>0</td>\n",
              "    </tr>\n",
              "    <tr>\n",
              "      <th>803</th>\n",
              "      <td>knog lights qudos action video light for gopro...</td>\n",
              "      <td>nilox chest mount harness foolish acheter et o...</td>\n",
              "      <td>0</td>\n",
              "      <td>0</td>\n",
              "    </tr>\n",
              "    <tr>\n",
              "      <th>1638</th>\n",
              "      <td>c mara canon sx510 negra alkosto tienda online</td>\n",
              "      <td>canon eos rebel t5i 18 megapixel digital slr c...</td>\n",
              "      <td>0</td>\n",
              "      <td>0</td>\n",
              "    </tr>\n",
              "    <tr>\n",
              "      <th>1671</th>\n",
              "      <td>silicon power 32gb microsdhc prijzen tweakers</td>\n",
              "      <td>transcend 32 gb class 10 sdhc flash memory car...</td>\n",
              "      <td>0</td>\n",
              "      <td>0</td>\n",
              "    </tr>\n",
              "    <tr>\n",
              "      <th>871</th>\n",
              "      <td>gopro hero3 hdmi micro cable ahdmc 301</td>\n",
              "      <td>gopro wi fi remote charging cable unique photo</td>\n",
              "      <td>0</td>\n",
              "      <td>0</td>\n",
              "    </tr>\n",
              "  </tbody>\n",
              "</table>\n",
              "</div>"
            ],
            "text/plain": [
              "                                             title_left  ... pred_label\n",
              "1508  fujifilm fp 3000b instant black and white film...  ...          0\n",
              "803   knog lights qudos action video light for gopro...  ...          0\n",
              "1638     c mara canon sx510 negra alkosto tienda online  ...          0\n",
              "1671      silicon power 32gb microsdhc prijzen tweakers  ...          0\n",
              "871              gopro hero3 hdmi micro cable ahdmc 301  ...          0\n",
              "\n",
              "[5 rows x 4 columns]"
            ]
          },
          "metadata": {
            "tags": []
          },
          "execution_count": 0
        }
      ]
    },
    {
      "cell_type": "code",
      "metadata": {
        "colab": {
          "background_save": true
        },
        "id": "b4_2PcVHDMG3",
        "outputId": "306c150b-3a42-49c0-905b-67708047f32e"
      },
      "source": [
        "def get_status(y_true, y_pred):\r\n",
        "  if y_true==1:\r\n",
        "    if y_pred==1:\r\n",
        "      return 'tp'\r\n",
        "    else:\r\n",
        "      return 'fn'\r\n",
        "  else:\r\n",
        "    if y_pred==0:\r\n",
        "      return 'tn'\r\n",
        "    else:\r\n",
        "      return 'fp'\r\n",
        "\r\n",
        "\r\n",
        "temp['status'] = temp.apply(lambda x: get_status(x['label'], x['pred_label']), axis=1)\r\n",
        "temp.head()"
      ],
      "execution_count": null,
      "outputs": [
        {
          "output_type": "execute_result",
          "data": {
            "text/html": [
              "<div>\n",
              "<style scoped>\n",
              "    .dataframe tbody tr th:only-of-type {\n",
              "        vertical-align: middle;\n",
              "    }\n",
              "\n",
              "    .dataframe tbody tr th {\n",
              "        vertical-align: top;\n",
              "    }\n",
              "\n",
              "    .dataframe thead th {\n",
              "        text-align: right;\n",
              "    }\n",
              "</style>\n",
              "<table border=\"1\" class=\"dataframe\">\n",
              "  <thead>\n",
              "    <tr style=\"text-align: right;\">\n",
              "      <th></th>\n",
              "      <th>title_left</th>\n",
              "      <th>title_right</th>\n",
              "      <th>label</th>\n",
              "      <th>pred_label</th>\n",
              "      <th>status</th>\n",
              "    </tr>\n",
              "  </thead>\n",
              "  <tbody>\n",
              "    <tr>\n",
              "      <th>1508</th>\n",
              "      <td>fujifilm fp 3000b instant black and white film...</td>\n",
              "      <td>335 camera bag black w black trim</td>\n",
              "      <td>0</td>\n",
              "      <td>0</td>\n",
              "      <td>tn</td>\n",
              "    </tr>\n",
              "    <tr>\n",
              "      <th>803</th>\n",
              "      <td>knog lights qudos action video light for gopro...</td>\n",
              "      <td>nilox chest mount harness foolish acheter et o...</td>\n",
              "      <td>0</td>\n",
              "      <td>0</td>\n",
              "      <td>tn</td>\n",
              "    </tr>\n",
              "    <tr>\n",
              "      <th>1638</th>\n",
              "      <td>c mara canon sx510 negra alkosto tienda online</td>\n",
              "      <td>canon eos rebel t5i 18 megapixel digital slr c...</td>\n",
              "      <td>0</td>\n",
              "      <td>0</td>\n",
              "      <td>tn</td>\n",
              "    </tr>\n",
              "    <tr>\n",
              "      <th>1671</th>\n",
              "      <td>silicon power 32gb microsdhc prijzen tweakers</td>\n",
              "      <td>transcend 32 gb class 10 sdhc flash memory car...</td>\n",
              "      <td>0</td>\n",
              "      <td>0</td>\n",
              "      <td>tn</td>\n",
              "    </tr>\n",
              "    <tr>\n",
              "      <th>871</th>\n",
              "      <td>gopro hero3 hdmi micro cable ahdmc 301</td>\n",
              "      <td>gopro wi fi remote charging cable unique photo</td>\n",
              "      <td>0</td>\n",
              "      <td>0</td>\n",
              "      <td>tn</td>\n",
              "    </tr>\n",
              "  </tbody>\n",
              "</table>\n",
              "</div>"
            ],
            "text/plain": [
              "                                             title_left  ... status\n",
              "1508  fujifilm fp 3000b instant black and white film...  ...     tn\n",
              "803   knog lights qudos action video light for gopro...  ...     tn\n",
              "1638     c mara canon sx510 negra alkosto tienda online  ...     tn\n",
              "1671      silicon power 32gb microsdhc prijzen tweakers  ...     tn\n",
              "871              gopro hero3 hdmi micro cable ahdmc 301  ...     tn\n",
              "\n",
              "[5 rows x 5 columns]"
            ]
          },
          "metadata": {
            "tags": []
          },
          "execution_count": 0
        }
      ]
    },
    {
      "cell_type": "code",
      "metadata": {
        "colab": {
          "background_save": true
        },
        "id": "92WIKvrqDvE4",
        "outputId": "47713440-2bad-429d-e864-13c85f814092"
      },
      "source": [
        "pd.set_option('display.max_colwidth', -1)\r\n",
        "\r\n",
        "temp[temp.status == 'tp'].head()"
      ],
      "execution_count": null,
      "outputs": [
        {
          "output_type": "stream",
          "text": [
            "/usr/local/lib/python3.6/dist-packages/ipykernel_launcher.py:1: FutureWarning: Passing a negative integer is deprecated in version 1.0 and will not be supported in future version. Instead, use None to not limit the column width.\n",
            "  \"\"\"Entry point for launching an IPython kernel.\n"
          ],
          "name": "stderr"
        },
        {
          "output_type": "execute_result",
          "data": {
            "text/html": [
              "<div>\n",
              "<style scoped>\n",
              "    .dataframe tbody tr th:only-of-type {\n",
              "        vertical-align: middle;\n",
              "    }\n",
              "\n",
              "    .dataframe tbody tr th {\n",
              "        vertical-align: top;\n",
              "    }\n",
              "\n",
              "    .dataframe thead th {\n",
              "        text-align: right;\n",
              "    }\n",
              "</style>\n",
              "<table border=\"1\" class=\"dataframe\">\n",
              "  <thead>\n",
              "    <tr style=\"text-align: right;\">\n",
              "      <th></th>\n",
              "      <th>title_left</th>\n",
              "      <th>title_right</th>\n",
              "      <th>label</th>\n",
              "      <th>pred_label</th>\n",
              "      <th>status</th>\n",
              "    </tr>\n",
              "  </thead>\n",
              "  <tbody>\n",
              "    <tr>\n",
              "      <th>36</th>\n",
              "      <td>olympus m zuiko digital ed 40 150mm f 2 8 pro lens buy at connection public sector solutions</td>\n",
              "      <td>used olympus m zuiko digital ed 40 150mm f 2 8 pro lens l excellent mirrorless</td>\n",
              "      <td>1</td>\n",
              "      <td>1</td>\n",
              "      <td>tp</td>\n",
              "    </tr>\n",
              "    <tr>\n",
              "      <th>242</th>\n",
              "      <td>sigma 70 300mm f4 5 6 dg macro nikon prijzen tweakers</td>\n",
              "      <td>sigma zoom telephoto 70 300mm f 4 5 6 dg macro autofocus lens for nikon af fumfie com</td>\n",
              "      <td>1</td>\n",
              "      <td>1</td>\n",
              "      <td>tp</td>\n",
              "    </tr>\n",
              "    <tr>\n",
              "      <th>423</th>\n",
              "      <td>action outdoor floating hand grip bobber acheter et offres sur bikeinn</td>\n",
              "      <td>action outdoor floating hand grip bobber scubastore</td>\n",
              "      <td>1</td>\n",
              "      <td>1</td>\n",
              "      <td>tp</td>\n",
              "    </tr>\n",
              "    <tr>\n",
              "      <th>115</th>\n",
              "      <td>veho muvi hd pro 1080p mini camcorder</td>\n",
              "      <td>veho vcc 005 muvi hdpro mini hd body camera action camcorder cameras unique photo</td>\n",
              "      <td>1</td>\n",
              "      <td>1</td>\n",
              "      <td>tp</td>\n",
              "    </tr>\n",
              "    <tr>\n",
              "      <th>440</th>\n",
              "      <td>wireless 2 4ghz 802 11b internet camera dcs 1000w d link deutschland</td>\n",
              "      <td>wireless 2 4ghz 802 11b internet camera dcs 1000w d link sweden</td>\n",
              "      <td>1</td>\n",
              "      <td>1</td>\n",
              "      <td>tp</td>\n",
              "    </tr>\n",
              "  </tbody>\n",
              "</table>\n",
              "</div>"
            ],
            "text/plain": [
              "                                                                                       title_left  ... status\n",
              "36   olympus m zuiko digital ed 40 150mm f 2 8 pro lens buy at connection public sector solutions  ...  tp   \n",
              "242  sigma 70 300mm f4 5 6 dg macro nikon prijzen tweakers                                         ...  tp   \n",
              "423  action outdoor floating hand grip bobber acheter et offres sur bikeinn                        ...  tp   \n",
              "115  veho muvi hd pro 1080p mini camcorder                                                         ...  tp   \n",
              "440  wireless 2 4ghz 802 11b internet camera dcs 1000w d link deutschland                          ...  tp   \n",
              "\n",
              "[5 rows x 5 columns]"
            ]
          },
          "metadata": {
            "tags": []
          },
          "execution_count": 0
        }
      ]
    },
    {
      "cell_type": "code",
      "metadata": {
        "colab": {
          "background_save": true
        },
        "id": "srtz8A7vD4w-",
        "outputId": "27a66be8-118e-405e-de5f-01a46f4b1243"
      },
      "source": [
        "temp[temp.status == 'tn'].head()"
      ],
      "execution_count": null,
      "outputs": [
        {
          "output_type": "execute_result",
          "data": {
            "text/html": [
              "<div>\n",
              "<style scoped>\n",
              "    .dataframe tbody tr th:only-of-type {\n",
              "        vertical-align: middle;\n",
              "    }\n",
              "\n",
              "    .dataframe tbody tr th {\n",
              "        vertical-align: top;\n",
              "    }\n",
              "\n",
              "    .dataframe thead th {\n",
              "        text-align: right;\n",
              "    }\n",
              "</style>\n",
              "<table border=\"1\" class=\"dataframe\">\n",
              "  <thead>\n",
              "    <tr style=\"text-align: right;\">\n",
              "      <th></th>\n",
              "      <th>title_left</th>\n",
              "      <th>title_right</th>\n",
              "      <th>label</th>\n",
              "      <th>pred_label</th>\n",
              "      <th>status</th>\n",
              "    </tr>\n",
              "  </thead>\n",
              "  <tbody>\n",
              "    <tr>\n",
              "      <th>1508</th>\n",
              "      <td>fujifilm fp 3000b instant black and white film no longer available unique photo</td>\n",
              "      <td>335 camera bag black w black trim</td>\n",
              "      <td>0</td>\n",
              "      <td>0</td>\n",
              "      <td>tn</td>\n",
              "    </tr>\n",
              "    <tr>\n",
              "      <th>803</th>\n",
              "      <td>knog lights qudos action video light for gopro silver kopen en aanbiedingen bikeinn</td>\n",
              "      <td>nilox chest mount harness foolish acheter et offres sur swiminn</td>\n",
              "      <td>0</td>\n",
              "      <td>0</td>\n",
              "      <td>tn</td>\n",
              "    </tr>\n",
              "    <tr>\n",
              "      <th>1638</th>\n",
              "      <td>c mara canon sx510 negra alkosto tienda online</td>\n",
              "      <td>canon eos rebel t5i 18 megapixel digital slr camera with lens mm 55</td>\n",
              "      <td>0</td>\n",
              "      <td>0</td>\n",
              "      <td>tn</td>\n",
              "    </tr>\n",
              "    <tr>\n",
              "      <th>1671</th>\n",
              "      <td>silicon power 32gb microsdhc prijzen tweakers</td>\n",
              "      <td>transcend 32 gb class 10 sdhc flash memory card ts32gsdhc10e computer accessories peripherals page 4 laptops outlet direct</td>\n",
              "      <td>0</td>\n",
              "      <td>0</td>\n",
              "      <td>tn</td>\n",
              "    </tr>\n",
              "    <tr>\n",
              "      <th>871</th>\n",
              "      <td>gopro hero3 hdmi micro cable ahdmc 301</td>\n",
              "      <td>gopro wi fi remote charging cable unique photo</td>\n",
              "      <td>0</td>\n",
              "      <td>0</td>\n",
              "      <td>tn</td>\n",
              "    </tr>\n",
              "  </tbody>\n",
              "</table>\n",
              "</div>"
            ],
            "text/plain": [
              "                                                                               title_left  ... status\n",
              "1508  fujifilm fp 3000b instant black and white film no longer available unique photo      ...  tn   \n",
              "803   knog lights qudos action video light for gopro silver kopen en aanbiedingen bikeinn  ...  tn   \n",
              "1638  c mara canon sx510 negra alkosto tienda online                                       ...  tn   \n",
              "1671  silicon power 32gb microsdhc prijzen tweakers                                        ...  tn   \n",
              "871   gopro hero3 hdmi micro cable ahdmc 301                                               ...  tn   \n",
              "\n",
              "[5 rows x 5 columns]"
            ]
          },
          "metadata": {
            "tags": []
          },
          "execution_count": 0
        }
      ]
    },
    {
      "cell_type": "code",
      "metadata": {
        "colab": {
          "background_save": true
        },
        "id": "NGxSMDSbEGIt",
        "outputId": "0e01ae4e-4ce3-445c-ed8a-a0b67b776767"
      },
      "source": [
        "temp[temp.status == 'fp'].head()"
      ],
      "execution_count": null,
      "outputs": [
        {
          "output_type": "execute_result",
          "data": {
            "text/html": [
              "<div>\n",
              "<style scoped>\n",
              "    .dataframe tbody tr th:only-of-type {\n",
              "        vertical-align: middle;\n",
              "    }\n",
              "\n",
              "    .dataframe tbody tr th {\n",
              "        vertical-align: top;\n",
              "    }\n",
              "\n",
              "    .dataframe thead th {\n",
              "        text-align: right;\n",
              "    }\n",
              "</style>\n",
              "<table border=\"1\" class=\"dataframe\">\n",
              "  <thead>\n",
              "    <tr style=\"text-align: right;\">\n",
              "      <th></th>\n",
              "      <th>title_left</th>\n",
              "      <th>title_right</th>\n",
              "      <th>label</th>\n",
              "      <th>pred_label</th>\n",
              "      <th>status</th>\n",
              "    </tr>\n",
              "  </thead>\n",
              "  <tbody>\n",
              "    <tr>\n",
              "      <th>1334</th>\n",
              "      <td>nikon af s nikkor 35mm f 1 8g dx lens fumfie com</td>\n",
              "      <td>nikon af s nikkor 105mm f 2 8g if ed vr</td>\n",
              "      <td>0</td>\n",
              "      <td>1</td>\n",
              "      <td>fp</td>\n",
              "    </tr>\n",
              "    <tr>\n",
              "      <th>667</th>\n",
              "      <td>sony alpha a7rii mirrorless digital camera body only e c pro video systems inc professional cameras</td>\n",
              "      <td>sony alpha a6000 mirrorless camera body only black</td>\n",
              "      <td>0</td>\n",
              "      <td>1</td>\n",
              "      <td>fp</td>\n",
              "    </tr>\n",
              "    <tr>\n",
              "      <th>643</th>\n",
              "      <td>transcend 128gb sdxc ultimate uhs 1 memory card class 10 ts128gsdxc10u1</td>\n",
              "      <td>kingston 128gb sdxc flash memory card class 3 sda3</td>\n",
              "      <td>0</td>\n",
              "      <td>1</td>\n",
              "      <td>fp</td>\n",
              "    </tr>\n",
              "    <tr>\n",
              "      <th>1457</th>\n",
              "      <td>hd wireless n day night outdoor cloud camera dcs 2330l d link deutschland</td>\n",
              "      <td>wireless ac day night hd mini bullet cloud camera d link portugal</td>\n",
              "      <td>0</td>\n",
              "      <td>1</td>\n",
              "      <td>fp</td>\n",
              "    </tr>\n",
              "    <tr>\n",
              "      <th>1187</th>\n",
              "      <td>fujifilm s electronics accessories instax instant film everything but water</td>\n",
              "      <td>fujifilm fp 3000b instant black and white film no longer available unique photo</td>\n",
              "      <td>0</td>\n",
              "      <td>1</td>\n",
              "      <td>fp</td>\n",
              "    </tr>\n",
              "  </tbody>\n",
              "</table>\n",
              "</div>"
            ],
            "text/plain": [
              "                                                                                               title_left  ... status\n",
              "1334  nikon af s nikkor 35mm f 1 8g dx lens fumfie com                                                     ...  fp   \n",
              "667   sony alpha a7rii mirrorless digital camera body only e c pro video systems inc professional cameras  ...  fp   \n",
              "643   transcend 128gb sdxc ultimate uhs 1 memory card class 10 ts128gsdxc10u1                              ...  fp   \n",
              "1457  hd wireless n day night outdoor cloud camera dcs 2330l d link deutschland                            ...  fp   \n",
              "1187  fujifilm s electronics accessories instax instant film everything but water                          ...  fp   \n",
              "\n",
              "[5 rows x 5 columns]"
            ]
          },
          "metadata": {
            "tags": []
          },
          "execution_count": 0
        }
      ]
    },
    {
      "cell_type": "code",
      "metadata": {
        "colab": {
          "base_uri": "https://localhost:8080/",
          "height": 281
        },
        "id": "4i_2vFlMEHwp",
        "outputId": "4f31d3d5-544b-4695-9a8d-7120d6b2d4d0"
      },
      "source": [
        "temp[temp.status == 'fn'].head()"
      ],
      "execution_count": 33,
      "outputs": [
        {
          "output_type": "execute_result",
          "data": {
            "text/html": [
              "<div>\n",
              "<style scoped>\n",
              "    .dataframe tbody tr th:only-of-type {\n",
              "        vertical-align: middle;\n",
              "    }\n",
              "\n",
              "    .dataframe tbody tr th {\n",
              "        vertical-align: top;\n",
              "    }\n",
              "\n",
              "    .dataframe thead th {\n",
              "        text-align: right;\n",
              "    }\n",
              "</style>\n",
              "<table border=\"1\" class=\"dataframe\">\n",
              "  <thead>\n",
              "    <tr style=\"text-align: right;\">\n",
              "      <th></th>\n",
              "      <th>title_left</th>\n",
              "      <th>title_right</th>\n",
              "      <th>label</th>\n",
              "      <th>pred_label</th>\n",
              "      <th>status</th>\n",
              "    </tr>\n",
              "  </thead>\n",
              "  <tbody>\n",
              "    <tr>\n",
              "      <th>418</th>\n",
              "      <td>gopro helmet front mount ahfmt 001</td>\n",
              "      <td>helmet mount go pro accessories video cameras electronic orienteering devices at barrabes com</td>\n",
              "      <td>1</td>\n",
              "      <td>0</td>\n",
              "      <td>fn</td>\n",
              "    </tr>\n",
              "    <tr>\n",
              "      <th>304</th>\n",
              "      <td>transcend 16gb compact flash card 1000x camera photo accessories page 1851 all tech toys</td>\n",
              "      <td>transcend ts16gcf1000 dfd 16gb 50p cf 1000x 160mb s compactflash card</td>\n",
              "      <td>1</td>\n",
              "      <td>0</td>\n",
              "      <td>fn</td>\n",
              "    </tr>\n",
              "    <tr>\n",
              "      <th>176</th>\n",
              "      <td>64gb sdxc class10 uhs i card tradineur com</td>\n",
              "      <td>transcend ts64gsdxc10u1 64gb sdxc class 10 600x uhs i for 49 48</td>\n",
              "      <td>1</td>\n",
              "      <td>0</td>\n",
              "      <td>fn</td>\n",
              "    </tr>\n",
              "    <tr>\n",
              "      <th>67</th>\n",
              "      <td>sandisk 32gb sdhc flash memory card sdsdb 032g b35 label may change camera photo accessories page 6 all tech toys</td>\n",
              "      <td>transcend secure digital card sdhc class 4 32gb</td>\n",
              "      <td>1</td>\n",
              "      <td>0</td>\n",
              "      <td>fn</td>\n",
              "    </tr>\n",
              "    <tr>\n",
              "      <th>10</th>\n",
              "      <td>canon ef 100mm f 2 8l macro is usm prime lens for eos slr cameras at crutchfield com</td>\n",
              "      <td>canon ef macro lens 100 mm series  prices cnet</td>\n",
              "      <td>1</td>\n",
              "      <td>0</td>\n",
              "      <td>fn</td>\n",
              "    </tr>\n",
              "  </tbody>\n",
              "</table>\n",
              "</div>"
            ],
            "text/plain": [
              "                                                                                                            title_left  ... status\n",
              "418  gopro helmet front mount ahfmt 001                                                                                 ...  fn   \n",
              "304  transcend 16gb compact flash card 1000x camera photo accessories page 1851 all tech toys                           ...  fn   \n",
              "176  64gb sdxc class10 uhs i card tradineur com                                                                         ...  fn   \n",
              "67   sandisk 32gb sdhc flash memory card sdsdb 032g b35 label may change camera photo accessories page 6 all tech toys  ...  fn   \n",
              "10   canon ef 100mm f 2 8l macro is usm prime lens for eos slr cameras at crutchfield com                               ...  fn   \n",
              "\n",
              "[5 rows x 5 columns]"
            ]
          },
          "metadata": {
            "tags": []
          },
          "execution_count": 33
        }
      ]
    },
    {
      "cell_type": "code",
      "metadata": {
        "colab": {
          "background_save": true
        },
        "id": "40rFQkTvEJFq"
      },
      "source": [
        ""
      ],
      "execution_count": null,
      "outputs": []
    },
    {
      "cell_type": "markdown",
      "metadata": {
        "id": "cO1nkUQsRaht"
      },
      "source": [
        "# Add more features"
      ]
    },
    {
      "cell_type": "code",
      "metadata": {
        "colab": {
          "base_uri": "https://localhost:8080/"
        },
        "id": "QVqrDTDxRcqu",
        "outputId": "ff2a8218-35e4-47bc-d4f8-ddd6b52dc3ca"
      },
      "source": [
        "train.info()"
      ],
      "execution_count": 34,
      "outputs": [
        {
          "output_type": "stream",
          "text": [
            "<class 'pandas.core.frame.DataFrame'>\n",
            "Int64Index: 1508 entries, 1014 to 1289\n",
            "Data columns (total 22 columns):\n",
            " #   Column                  Non-Null Count  Dtype \n",
            "---  ------                  --------------  ----- \n",
            " 0   id_left                 1508 non-null   int64 \n",
            " 1   title_left              1508 non-null   object\n",
            " 2   description_left        1100 non-null   object\n",
            " 3   brand_left              596 non-null    object\n",
            " 4   price_left              115 non-null    object\n",
            " 5   specTableContent_left   208 non-null    object\n",
            " 6   keyValuePairs_left      164 non-null    object\n",
            " 7   category_left           1508 non-null   object\n",
            " 8   cluster_id_left         1508 non-null   int64 \n",
            " 9   identifiers_left        1508 non-null   object\n",
            " 10  id_right                1508 non-null   int64 \n",
            " 11  title_right             1508 non-null   object\n",
            " 12  description_right       1051 non-null   object\n",
            " 13  brand_right             583 non-null    object\n",
            " 14  price_right             81 non-null     object\n",
            " 15  specTableContent_right  253 non-null    object\n",
            " 16  keyValuePairs_right     195 non-null    object\n",
            " 17  category_right          1508 non-null   object\n",
            " 18  cluster_id_right        1508 non-null   int64 \n",
            " 19  identifiers_right       1508 non-null   object\n",
            " 20  label                   1508 non-null   object\n",
            " 21  pair_id                 1508 non-null   object\n",
            "dtypes: int64(4), object(18)\n",
            "memory usage: 271.0+ KB\n"
          ],
          "name": "stdout"
        }
      ]
    },
    {
      "cell_type": "code",
      "metadata": {
        "colab": {
          "base_uri": "https://localhost:8080/"
        },
        "id": "hI0g9YD9RfC_",
        "outputId": "814a9f52-4db6-430e-8b74-ca83cfae19c1"
      },
      "source": [
        "print('Sample of Match Product')\r\n",
        "temp = df[df.label == 1].sample(1)\r\n",
        "print(temp.description_left.iloc[0])\r\n",
        "print(temp.description_right.iloc[0], '\\n')\r\n",
        "\r\n",
        "print('Sample of Not Match Product')\r\n",
        "temp = df[df.label == 0].sample(1)\r\n",
        "print(temp.description_left.iloc[0])\r\n",
        "print(temp.description_right.iloc[0])"
      ],
      "execution_count": 36,
      "outputs": [
        {
          "output_type": "stream",
          "text": [
            "Sample of Match Product\n",
            "gopro fixation lat rale fixez votre cam ra sur casque v hicule quipement et plus encore le bras articul tridirectionnel vous permet de cadrer vos images tr s facilement compatible avec toutes les ras hero3 hero2 hd hero original comprend adh sive incurv e\n",
            "go pro camera side mount for attaching to the side of your helmet to a vehicle equipment etc the side mount can also be extended outwards so that you have a wider perspective and can also film yourself thanks to the 3 way adjustable pivot side mount for helmets 3 way adjust curved adhesive mount if you have any queries please contact one of our technical advisors \n",
            "\n",
            "Sample of Not Match Product\n",
            "None\n",
            "transcend ts32gsdhc10 secure digital high capacity sdhc ts32gsdhc10 flash memory\n"
          ],
          "name": "stdout"
        }
      ]
    },
    {
      "cell_type": "code",
      "metadata": {
        "id": "09mcc1hYRjV-"
      },
      "source": [
        "# Gabung title dan deskripsi\r\n",
        "train.description_left    = train.description_left.fillna('')\r\n",
        "train.description_right   = train.description_right.fillna('')\r\n",
        "train['title_desc_left']  = train.apply(lambda x: x['title_left'] + ' ' + x['description_left'], axis=1)\r\n",
        "train['title_desc_right'] = train.apply(lambda x: x['title_right'] + ' ' + x['description_right'], axis=1)\r\n",
        "\r\n",
        "train_left_text           = train.title_desc_left.tolist()\r\n",
        "train_right_text          = train.title_desc_right.tolist()\r\n",
        "train_text                = train_left_text+train_right_text\r\n",
        "train_labels              = train.label.tolist()\r\n",
        "print(len(train_left_text), len(train_right_text), len(train_labels), len(train_text))\r\n",
        "\r\n",
        "test.description_left    = test.description_left.fillna('')\r\n",
        "test.description_right   = test.description_right.fillna('')\r\n",
        "test['title_desc_left']  = test.apply(lambda x: x['title_left'] + ' ' + x['description_left'], axis=1)\r\n",
        "test['title_desc_right'] = test.apply(lambda x: x['title_right'] + ' ' + x['description_right'], axis=1)\r\n",
        "\r\n",
        "test_left_text          = test.title_desc_left.tolist()\r\n",
        "test_right_text         = test.title_desc_right.tolist()\r\n",
        "test_text               = test_left_text+test_right_text\r\n",
        "test_labels             = test.label.tolist()\r\n",
        "print(len(test_left_text), len(test_right_text), len(test_labels), len(test_text))"
      ],
      "execution_count": null,
      "outputs": []
    },
    {
      "cell_type": "code",
      "metadata": {
        "colab": {
          "base_uri": "https://localhost:8080/"
        },
        "id": "eznK4Y9VR_B8",
        "outputId": "ca75970b-efd5-489b-a5c6-e14d7bb84b03"
      },
      "source": [
        "train_left_text[0], train_right_text[0], train_labels[0]"
      ],
      "execution_count": 39,
      "outputs": [
        {
          "output_type": "execute_result",
          "data": {
            "text/plain": [
              "('disparador automatico a distancia rc 6 c maras disparador automatico a distancia rc 6 para c maras eos 550',\n",
              " 'canon rs 60e3 camera remote control  series specs cnet ',\n",
              " 0)"
            ]
          },
          "metadata": {
            "tags": []
          },
          "execution_count": 39
        }
      ]
    },
    {
      "cell_type": "code",
      "metadata": {
        "id": "CqntBxW1UYF7"
      },
      "source": [
        "from sklearn.feature_extraction.text import TfidfVectorizer\r\n",
        "from sklearn.metrics.pairwise import cosine_similarity\r\n",
        "import numpy as np\r\n",
        "\r\n",
        "def get_similarity(vector):\r\n",
        "    cosine_sim_arr = []\r\n",
        "    n              = int(len(vector) / 2)\r\n",
        "    for i in range(n):\r\n",
        "        j             = i + n\r\n",
        "        cosine_sim    = cosine_similarity([vector[i]], [vector[j]])\r\n",
        "        cosine_sim_arr.append(cosine_sim[0][0])\r\n",
        "    return cosine_sim_arr\r\n",
        "\r\n",
        "vectorizer   = TfidfVectorizer()\r\n",
        "vectorizer.fit(train_text)\r\n",
        "\r\n",
        "train_vector = vectorizer.transform(train_text).toarray()\r\n",
        "test_vector  = vectorizer.transform(test_text).toarray()"
      ],
      "execution_count": 43,
      "outputs": []
    },
    {
      "cell_type": "code",
      "metadata": {
        "colab": {
          "base_uri": "https://localhost:8080/"
        },
        "id": "tKs26kv8UmTp",
        "outputId": "43c1ab1b-aa4e-42e0-d752-409c04f47771"
      },
      "source": [
        "train_vector[0]"
      ],
      "execution_count": 45,
      "outputs": [
        {
          "output_type": "execute_result",
          "data": {
            "text/plain": [
              "array([0., 0., 0., ..., 0., 0., 0.])"
            ]
          },
          "metadata": {
            "tags": []
          },
          "execution_count": 45
        }
      ]
    },
    {
      "cell_type": "code",
      "metadata": {
        "colab": {
          "base_uri": "https://localhost:8080/"
        },
        "id": "_nMgfVYOUpBa",
        "outputId": "ca3dd7e7-bb32-4c06-c8ad-daabbc92c330"
      },
      "source": [
        "from sklearn import metrics\r\n",
        "\r\n",
        "thresh         = [0.1, 0.2, 0.3, 0.4, 0.5, 0.6, 0.7, 0.8, 0.9]\r\n",
        "cosine_sim_arr = np.array(get_similarity(test_vector))\r\n",
        "best_value     = (-1, -1)\r\n",
        "\r\n",
        "for thrs in thresh:\r\n",
        "    y_pred         = np.where(cosine_sim_arr > thrs, 1, 0)\r\n",
        "    x              = metrics.classification_report(y_pred=y_pred, y_true=test_labels, labels=[0, 1], digits=4, output_dict=True)\r\n",
        "\r\n",
        "    if best_value[1] < x['weighted avg']['f1-score']:\r\n",
        "      best_value = (thrs, x['weighted avg']['f1-score'])\r\n",
        "\r\n",
        "    print(thrs, x['0']['f1-score'], x['1']['f1-score'], x['weighted avg']['f1-score'])\r\n",
        "    print('')\r\n",
        "\r\n",
        "print('best value: ', best_value)"
      ],
      "execution_count": 46,
      "outputs": [
        {
          "output_type": "stream",
          "text": [
            "0.1 0.6893424036281179 0.5650793650793651 0.6561398457090067\n",
            "\n",
            "0.2 0.8365758754863812 0.6528925619834711 0.7874964716139107\n",
            "\n",
            "0.3 0.9040139616055847 0.6994535519125684 0.8493562859997787\n",
            "\n",
            "0.4 0.8983050847457628 0.6385542168674698 0.8289007523232559\n",
            "\n",
            "0.5 0.8859934853420195 0.5070422535211268 0.784739320225855\n",
            "\n",
            "0.6 0.8835725677830942 0.434108527131783 0.7634776786143577\n",
            "\n",
            "0.7 0.869701726844584 0.3025210084033613 0.718153439642035\n",
            "\n",
            "0.8 0.8642745709828393 0.2434782608695652 0.6984004246298217\n",
            "\n",
            "0.9 0.8549382716049383 0.12962962962962962 0.6611388725586256\n",
            "\n",
            "best value:  (0.3, 0.8493562859997787)\n"
          ],
          "name": "stdout"
        }
      ]
    },
    {
      "cell_type": "markdown",
      "metadata": {
        "id": "-pEu-5xHVBXd"
      },
      "source": [
        "# Experiment with Another Preprocessing"
      ]
    },
    {
      "cell_type": "code",
      "metadata": {
        "colab": {
          "base_uri": "https://localhost:8080/",
          "height": 35
        },
        "id": "baYZsaDQVCCZ",
        "outputId": "58af1379-930f-40c5-93a7-5f00d6b86aa8"
      },
      "source": [
        "import re\r\n",
        "\r\n",
        "def preprocessing(text):\r\n",
        "  text = str(text).lower()\r\n",
        "  text = re.sub(r'[^\\w ]', '', text)\r\n",
        "  text = re.sub(r'([0-9])([a-z])', r'\\1 \\2', text)\r\n",
        "  text = re.sub(r'([a-z])([0-9])', r'\\1 \\2', text)\r\n",
        "  return text\r\n",
        "\r\n",
        "preprocessing('Camera A53VV 100gb')"
      ],
      "execution_count": 47,
      "outputs": [
        {
          "output_type": "execute_result",
          "data": {
            "application/vnd.google.colaboratory.intrinsic+json": {
              "type": "string"
            },
            "text/plain": [
              "'camera a 53 vv 100 gb'"
            ]
          },
          "metadata": {
            "tags": []
          },
          "execution_count": 47
        }
      ]
    },
    {
      "cell_type": "code",
      "metadata": {
        "id": "wdvWjC_8VEf7"
      },
      "source": [
        "train['title_left']  = train['title_left'].apply(preprocessing)\r\n",
        "train['title_right'] = train['title_right'].apply(preprocessing)\r\n",
        "test['title_left']   = test['title_left'].apply(preprocessing)\r\n",
        "test['title_right']  = test['title_right'].apply(preprocessing)"
      ],
      "execution_count": null,
      "outputs": []
    },
    {
      "cell_type": "code",
      "metadata": {
        "colab": {
          "base_uri": "https://localhost:8080/"
        },
        "id": "oriIWWqQVGMZ",
        "outputId": "5a54a030-5df2-4a57-b7ff-019d9dd8023b"
      },
      "source": [
        "train_left_title  = train.title_left.tolist()\r\n",
        "train_right_title = train.title_right.tolist()\r\n",
        "train_title       = train_left_title+train_right_title\r\n",
        "train_labels      = train.label.tolist()\r\n",
        "print(len(train_left_title), len(train_right_title), len(train_labels), len(train_title))\r\n",
        "\r\n",
        "test_left_title  = test.title_left.tolist()\r\n",
        "test_right_title = test.title_right.tolist()\r\n",
        "test_title       = test_left_title+test_right_title\r\n",
        "test_labels      = test.label.tolist()\r\n",
        "print(len(test_left_title), len(test_right_title), len(test_labels), len(test_title))"
      ],
      "execution_count": 49,
      "outputs": [
        {
          "output_type": "stream",
          "text": [
            "1508 1508 1508 3016\n",
            "378 378 378 756\n"
          ],
          "name": "stdout"
        }
      ]
    },
    {
      "cell_type": "code",
      "metadata": {
        "id": "sT9MBnSCVIm5"
      },
      "source": [
        "from sklearn.feature_extraction.text import TfidfVectorizer\r\n",
        "from sklearn.metrics.pairwise import cosine_similarity\r\n",
        "import numpy as np\r\n",
        "\r\n",
        "def get_similarity(vector):\r\n",
        "    cosine_sim_arr = []\r\n",
        "    n              = int(len(vector) / 2)\r\n",
        "    for i in range(n):\r\n",
        "        j             = i + n\r\n",
        "        cosine_sim    = cosine_similarity([vector[i]], [vector[j]])\r\n",
        "        cosine_sim_arr.append(cosine_sim[0][0])\r\n",
        "    return cosine_sim_arr\r\n",
        "\r\n",
        "vectorizer   = TfidfVectorizer()\r\n",
        "vectorizer.fit(train_title)\r\n",
        "\r\n",
        "train_vector = vectorizer.transform(train_title).toarray()\r\n",
        "test_vector  = vectorizer.transform(test_title).toarray()"
      ],
      "execution_count": 50,
      "outputs": []
    },
    {
      "cell_type": "code",
      "metadata": {
        "colab": {
          "base_uri": "https://localhost:8080/"
        },
        "id": "h23uCmZ_VKgZ",
        "outputId": "5166a0ee-267f-4130-b044-0b393bb7985b"
      },
      "source": [
        "from sklearn import metrics\r\n",
        "\r\n",
        "thresh         = [0.1, 0.2, 0.3, 0.4, 0.5, 0.6, 0.7, 0.8, 0.9]\r\n",
        "cosine_sim_arr = np.array(get_similarity(test_vector))\r\n",
        "best_value     = (-1, -1)\r\n",
        "\r\n",
        "for thrs in thresh:\r\n",
        "    y_pred         = np.where(cosine_sim_arr > thrs, 1, 0)\r\n",
        "    x              = metrics.classification_report(y_pred=y_pred, y_true=test_labels, labels=[0, 1], digits=4, output_dict=True)\r\n",
        "\r\n",
        "    if best_value[1] < x['weighted avg']['f1-score']:\r\n",
        "      best_value = (thrs, x['weighted avg']['f1-score'])\r\n",
        "\r\n",
        "    print(thrs, x['0']['f1-score'], x['1']['f1-score'], x['weighted avg']['f1-score'])\r\n",
        "    print('')\r\n",
        "\r\n",
        "print('best value: ', best_value)"
      ],
      "execution_count": 51,
      "outputs": [
        {
          "output_type": "stream",
          "text": [
            "0.1 0.6246973365617434 0.5481049562682216 0.6042321767478659\n",
            "\n",
            "0.2 0.7866108786610878 0.6330935251798562 0.7455916916198064\n",
            "\n",
            "0.3 0.8576923076923076 0.6864406779661018 0.8119345971040886\n",
            "\n",
            "0.4 0.9025270758122743 0.7326732673267327 0.8571428571428571\n",
            "\n",
            "0.5 0.9044368600682594 0.6705882352941176 0.8419534973640576\n",
            "\n",
            "0.6 0.8885245901639344 0.5342465753424658 0.7938630041931187\n",
            "\n",
            "0.7 0.870253164556962 0.3387096774193548 0.7282269947133156\n",
            "\n",
            "0.8 0.8615863141524105 0.21238938053097342 0.6881236414122911\n",
            "\n",
            "0.9 0.8496932515337424 0.05769230769230769 0.6380739517242585\n",
            "\n",
            "best value:  (0.4, 0.8571428571428571)\n"
          ],
          "name": "stdout"
        }
      ]
    },
    {
      "cell_type": "code",
      "metadata": {
        "id": "qw4Ek5BTVMIJ"
      },
      "source": [
        ""
      ],
      "execution_count": null,
      "outputs": []
    }
  ]
}