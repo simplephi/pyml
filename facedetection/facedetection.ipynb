{
  "nbformat": 4,
  "nbformat_minor": 0,
  "metadata": {
    "colab": {
      "name": "facedetection",
      "provenance": []
    },
    "kernelspec": {
      "display_name": "Python 3",
      "name": "python3"
    }
  },
  "cells": [
    {
      "cell_type": "code",
      "metadata": {
        "colab": {
          "base_uri": "https://localhost:8080/"
        },
        "id": "71xVv3j8Briy",
        "outputId": "b0434e46-a51a-4e3e-a2d6-5ca07112335a"
      },
      "source": [
        "import tensorflow as tf\r\n",
        "\r\n",
        "from tensorflow.keras.preprocessing.image import ImageDataGenerator\r\n",
        "\r\n",
        "from imutils import paths\r\n",
        "import os\r\n",
        "\r\n",
        "from zipfile import ZipFile\r\n",
        "file_name = './data.zip'\r\n",
        "\r\n",
        "with ZipFile(file_name, 'r') as zip:\r\n",
        "  zip.extractall()\r\n",
        "  print('Done')"
      ],
      "execution_count": 1,
      "outputs": [
        {
          "output_type": "stream",
          "text": [
            "Done\n"
          ],
          "name": "stdout"
        }
      ]
    },
    {
      "cell_type": "code",
      "metadata": {
        "id": "sjRYrRVloJXP"
      },
      "source": [
        "# %rm -rf data"
      ],
      "execution_count": null,
      "outputs": []
    },
    {
      "cell_type": "code",
      "metadata": {
        "id": "teUFBRZiEA9F"
      },
      "source": [
        "# Membuat folder untuk training dan testing dataset\r\n",
        "try:\r\n",
        "    os.mkdir('./data/training')\r\n",
        "    os.mkdir('./data/testing')\r\n",
        "    os.mkdir('./data/training/with_mask')\r\n",
        "    os.mkdir('./data/training/without_mask')\r\n",
        "    os.mkdir('./data/testing/with_mask')\r\n",
        "    os.mkdir('./data/testing/without_mask')\r\n",
        "\r\n",
        "except OSError:\r\n",
        "    pass"
      ],
      "execution_count": 2,
      "outputs": []
    },
    {
      "cell_type": "code",
      "metadata": {
        "id": "StrVrlA9EI7y"
      },
      "source": [
        "# Memisahkan dan membagi data training dan data testing pada tiap-tiap label, serta membagi nya menjadi 80% data training dan 20% data testing\r\n",
        "import random\r\n",
        "import shutil\r\n",
        "from shutil import copyfile\r\n",
        "\r\n",
        "def split_data(SOURCE, TRAINING, TESTING, SPLIT_SIZE):\r\n",
        "    files = []\r\n",
        "    for filename in os.listdir(SOURCE):\r\n",
        "        file = SOURCE + filename\r\n",
        "        if os.path.getsize(file) > 0:\r\n",
        "            files.append(filename)\r\n",
        "        else:\r\n",
        "            print(filename + \" Jika kosong, Abaikan.\")\r\n",
        "\r\n",
        "    training_length = int(len(files) * SPLIT_SIZE)\r\n",
        "    testing_length = int(len(files) - training_length)\r\n",
        "    shuffled_set = random.sample(files, len(files))\r\n",
        "    training_set = shuffled_set[0:training_length]\r\n",
        "    testing_set = shuffled_set[:testing_length]\r\n",
        "\r\n",
        "    for filename in training_set:\r\n",
        "        this_file = SOURCE + filename\r\n",
        "        destination = TRAINING + filename\r\n",
        "        copyfile(this_file, destination)\r\n",
        "\r\n",
        "    for filename in testing_set:\r\n",
        "        this_file = SOURCE + filename\r\n",
        "        destination = TESTING + filename\r\n",
        "        copyfile(this_file, destination)\r\n",
        "\r\n",
        "MASK_SOURCE_DIR = \"./data/with_mask/\"\r\n",
        "TRAINING_MASK_DIR = \"./data/training/with_mask/\"\r\n",
        "TESTING_MASK_DIR = \"./data/testing/with_mask/\"\r\n",
        "\r\n",
        "WITHOUT_SOURCE_DIR = \"./data/without_mask/\"\r\n",
        "TRAINING_WITHOUT_DIR = \"./data/training/without_mask/\"\r\n",
        "TESTING_WITHOUT_DIR = \"./data/testing/without_mask/\"\r\n",
        "\r\n",
        "split_size = .8\r\n",
        "split_data(MASK_SOURCE_DIR, TRAINING_MASK_DIR, TESTING_MASK_DIR, split_size)\r\n",
        "split_data(WITHOUT_SOURCE_DIR, TRAINING_WITHOUT_DIR, TESTING_WITHOUT_DIR, split_size)"
      ],
      "execution_count": 3,
      "outputs": []
    },
    {
      "cell_type": "code",
      "metadata": {
        "colab": {
          "base_uri": "https://localhost:8080/"
        },
        "id": "YTHRUk0oEJ2J",
        "outputId": "06d0656a-58bc-49a7-a1f3-53c02e83eb13"
      },
      "source": [
        "# Memeriksa hasil split(pembagian)\r\n",
        "print(len(os.listdir('./data/training/with_mask/')))\r\n",
        "print(len(os.listdir('./data/training/without_mask/')))\r\n",
        "print(len(os.listdir('./data/testing/with_mask/')))\r\n",
        "print(len(os.listdir('./data/testing/without_mask/')))\r\n"
      ],
      "execution_count": 4,
      "outputs": [
        {
          "output_type": "stream",
          "text": [
            "1532\n",
            "1534\n",
            "383\n",
            "384\n"
          ],
          "name": "stdout"
        }
      ]
    },
    {
      "cell_type": "code",
      "metadata": {
        "colab": {
          "base_uri": "https://localhost:8080/"
        },
        "id": "5Hwrba_FEML3",
        "outputId": "7e093f37-b964-4cc9-9926-dabf56a313d1"
      },
      "source": [
        "# Inisiasi datagen untuk training dan testing\r\n",
        "train_gen = ImageDataGenerator(\r\n",
        "        rescale=1.0 / 255,\r\n",
        "        rotation_range=5,\r\n",
        "        width_shift_range=0.1,\r\n",
        "        height_shift_range=0.1,\r\n",
        "        brightness_range=(0.75, 1),\r\n",
        "        shear_range=0.1,\r\n",
        "        zoom_range=[0.75, 1],\r\n",
        "        horizontal_flip=True,\r\n",
        "    )\r\n",
        "\r\n",
        "# except for rescaling, no augmentations are needed for validation and testing generators\r\n",
        "validation_gen = ImageDataGenerator(\r\n",
        "        rescale=1.0 / 255\r\n",
        "    )\r\n",
        "\r\n",
        "\r\n",
        "# Menyesuaikan data image generator\r\n",
        "TRAINING_DIR = './data/training'\r\n",
        "train_generator = train_gen.flow_from_directory(TRAINING_DIR,\r\n",
        "                                                    batch_size=32,\r\n",
        "                                                    class_mode='categorical',\r\n",
        "                                                    target_size=(224, 224))\r\n",
        "\r\n",
        "VALIDATION_DIR = './data/testing'\r\n",
        "validation_generator = validation_gen.flow_from_directory(VALIDATION_DIR,\r\n",
        "                                                              batch_size=32,\r\n",
        "                                                              class_mode='categorical',\r\n",
        "                                                              target_size=(224, 224))\r\n",
        "\r\n"
      ],
      "execution_count": 10,
      "outputs": [
        {
          "output_type": "stream",
          "text": [
            "Found 3066 images belonging to 2 classes.\n",
            "Found 767 images belonging to 2 classes.\n"
          ],
          "name": "stdout"
        }
      ]
    },
    {
      "cell_type": "code",
      "metadata": {
        "colab": {
          "base_uri": "https://localhost:8080/"
        },
        "id": "-UzLClh5ERAZ",
        "outputId": "a507d4d6-fc76-4057-f4a6-a9107f91c4b3"
      },
      "source": [
        "# Load the MobileNetV2 network, ensuring the head FC layer sets are left off\r\n",
        "\r\n",
        "from tensorflow.keras.applications import MobileNetV2\r\n",
        "from tensorflow.keras.layers import Input\r\n",
        "\r\n",
        "baseModel = MobileNetV2(\r\n",
        "    weights=\"imagenet\",\r\n",
        "    include_top=False,\r\n",
        "    input_tensor=Input(shape=(224, 224, 3)))"
      ],
      "execution_count": 11,
      "outputs": [
        {
          "output_type": "stream",
          "text": [
            "WARNING:tensorflow:`input_shape` is undefined or non-square, or `rows` is not in [96, 128, 160, 192, 224]. Weights for input shape (224, 224) will be loaded as the default.\n"
          ],
          "name": "stdout"
        }
      ]
    },
    {
      "cell_type": "code",
      "metadata": {
        "id": "oWor4ZaJEZII"
      },
      "source": [
        "# Construct the head of the model that will be placed on top of the base model\r\n",
        "\r\n",
        "from tensorflow.keras.layers import AveragePooling2D\r\n",
        "from tensorflow.keras.layers import Dense\r\n",
        "from tensorflow.keras.layers import Dropout\r\n",
        "from tensorflow.keras.layers import Flatten\r\n",
        "\r\n",
        "headModel = baseModel.output\r\n",
        "headModel = AveragePooling2D(pool_size=(7, 7))(headModel)\r\n",
        "headModel = Flatten(name=\"flatten\")(headModel)\r\n",
        "headModel = Dense(128, activation=\"relu\")(headModel)\r\n",
        "headModel = Dropout(0.5)(headModel)\r\n",
        "headModel = Dense(2, activation=\"softmax\")(headModel)\r\n"
      ],
      "execution_count": 12,
      "outputs": []
    },
    {
      "cell_type": "code",
      "metadata": {
        "id": "ckYWou_5Eb1w"
      },
      "source": [
        "# Place the head FC model on top of the base model (this will become the actual model we will train)\r\n",
        "from tensorflow.keras.models import Model\r\n",
        "model = Model(inputs=baseModel.input, outputs=headModel)\r\n",
        "\r\n",
        "\r\n",
        "# Loop over all layers in the base model and freeze them so they will *not* be updated during the first training process\r\n",
        "for layer in baseModel.layers:\r\n",
        "    layer.trainable = False\r\n",
        "\r\n",
        "\r\n",
        "# Initialize the initial learning rate, number of epochs to train for, and batch size\r\n",
        "INIT_LR = 1e-4\r\n",
        "EPOCHS = 15\r\n",
        "BATCH_SIZE = 32\r\n",
        "\r\n",
        "# Menggunakan fungsi callback\r\n",
        "class panggilCallback(tf.keras.callbacks.Callback):\r\n",
        "    def on_epoch_end(self, epoch, logs={}):\r\n",
        "        if(logs.get('accuracy') > 0.99):\r\n",
        "            print(\"\\n Proses Training dibatalkan jika sudah mencapai akurasi 99%\")\r\n",
        "            self.model.stop_training = True\r\n",
        "\r\n",
        "callbacks = panggilCallback()"
      ],
      "execution_count": 15,
      "outputs": []
    },
    {
      "cell_type": "code",
      "metadata": {
        "colab": {
          "base_uri": "https://localhost:8080/"
        },
        "id": "aeZ67wOHEfTY",
        "outputId": "e414bf11-636f-4458-d685-89dd5cfb35de"
      },
      "source": [
        "# Compile the model\r\n",
        "from tensorflow.keras.optimizers import Adam\r\n",
        "\r\n",
        "opt = Adam(lr=INIT_LR, decay=INIT_LR / EPOCHS)\r\n",
        "model.compile(loss=\"binary_crossentropy\", optimizer=opt, metrics=[\"accuracy\"])\r\n",
        "\r\n",
        "\r\n",
        "# Training Model\r\n",
        "history = model.fit(train_generator,\r\n",
        "                    steps_per_epoch=train_generator.samples // BATCH_SIZE,\r\n",
        "                    epochs=EPOCHS,\r\n",
        "                    validation_data=validation_generator,\r\n",
        "                    validation_steps=validation_generator.samples // BATCH_SIZE,\r\n",
        "                    verbose=2,\r\n",
        "                    callbacks=[callbacks])"
      ],
      "execution_count": 16,
      "outputs": [
        {
          "output_type": "stream",
          "text": [
            "Epoch 1/15\n"
          ],
          "name": "stdout"
        },
        {
          "output_type": "stream",
          "text": [
            "/usr/local/lib/python3.6/dist-packages/PIL/Image.py:932: UserWarning: Palette images with Transparency expressed in bytes should be converted to RGBA images\n",
            "  \"Palette images with Transparency expressed in bytes should be \"\n"
          ],
          "name": "stderr"
        },
        {
          "output_type": "stream",
          "text": [
            "95/95 - 177s - loss: 0.3506 - accuracy: 0.8932 - val_loss: 0.1647 - val_accuracy: 0.9742\n",
            "Epoch 2/15\n",
            "95/95 - 172s - loss: 0.1553 - accuracy: 0.9664 - val_loss: 0.0979 - val_accuracy: 0.9796\n",
            "Epoch 3/15\n",
            "95/95 - 181s - loss: 0.1032 - accuracy: 0.9740 - val_loss: 0.0770 - val_accuracy: 0.9769\n",
            "Epoch 4/15\n",
            "95/95 - 173s - loss: 0.0859 - accuracy: 0.9779 - val_loss: 0.0631 - val_accuracy: 0.9796\n",
            "Epoch 5/15\n",
            "95/95 - 173s - loss: 0.0688 - accuracy: 0.9829 - val_loss: 0.0560 - val_accuracy: 0.9796\n",
            "Epoch 6/15\n",
            "95/95 - 172s - loss: 0.0604 - accuracy: 0.9832 - val_loss: 0.0455 - val_accuracy: 0.9878\n",
            "Epoch 7/15\n",
            "95/95 - 172s - loss: 0.0534 - accuracy: 0.9852 - val_loss: 0.0445 - val_accuracy: 0.9851\n",
            "Epoch 8/15\n",
            "95/95 - 171s - loss: 0.0478 - accuracy: 0.9881 - val_loss: 0.0383 - val_accuracy: 0.9891\n",
            "Epoch 9/15\n",
            "95/95 - 173s - loss: 0.0449 - accuracy: 0.9895 - val_loss: 0.0320 - val_accuracy: 0.9905\n",
            "Epoch 10/15\n",
            "95/95 - 174s - loss: 0.0407 - accuracy: 0.9878 - val_loss: 0.0320 - val_accuracy: 0.9891\n",
            "Epoch 11/15\n",
            "95/95 - 174s - loss: 0.0414 - accuracy: 0.9875 - val_loss: 0.0271 - val_accuracy: 0.9905\n",
            "Epoch 12/15\n",
            "95/95 - 173s - loss: 0.0348 - accuracy: 0.9898 - val_loss: 0.0270 - val_accuracy: 0.9905\n",
            "Epoch 13/15\n",
            "95/95 - 173s - loss: 0.0337 - accuracy: 0.9901 - val_loss: 0.0254 - val_accuracy: 0.9918\n",
            "\n",
            " Proses Training dibatalkan jika sudah mencapai akurasi 99%\n"
          ],
          "name": "stdout"
        }
      ]
    },
    {
      "cell_type": "code",
      "metadata": {
        "colab": {
          "base_uri": "https://localhost:8080/",
          "height": 294
        },
        "id": "5czZRbH0EiC_",
        "outputId": "ab61a50a-f696-4af9-cc48-a87ff99292b5"
      },
      "source": [
        "# Melihat hasil akurasi apakah overfitting atau underfitting\r\n",
        "import matplotlib.pyplot as plt\r\n",
        "\r\n",
        "accuracy = history.history['accuracy']\r\n",
        "val_accuracy = history.history['val_accuracy']\r\n",
        "loss = history.history['loss']\r\n",
        "val_loss = history.history['val_loss']\r\n",
        "\r\n",
        "plt.figure(figsize=(14, 4))\r\n",
        "\r\n",
        "plt.subplot(1, 2, 1)\r\n",
        "plt.title('Loss')\r\n",
        "plt.xlabel('Epoch')\r\n",
        "plt.ylabel('Loss')\r\n",
        "plt.plot(loss, label='Training set')\r\n",
        "plt.plot(val_loss, label='Test set', linestyle='--')\r\n",
        "plt.legend()\r\n",
        "plt.grid(linestyle='--', linewidth=1, alpha=0.5)\r\n",
        "\r\n",
        "plt.subplot(1, 2, 2)\r\n",
        "plt.title('Accuracy')\r\n",
        "plt.xlabel('Epoch')\r\n",
        "plt.ylabel('Accuracy')\r\n",
        "plt.plot(accuracy, label='Training set')\r\n",
        "plt.plot(val_accuracy, label='Test set', linestyle='--')\r\n",
        "plt.legend()\r\n",
        "plt.grid(linestyle='--', linewidth=1, alpha=0.5)\r\n",
        "\r\n",
        "\r\n",
        "plt.show()"
      ],
      "execution_count": 17,
      "outputs": [
        {
          "output_type": "display_data",
          "data": {
            "image/png": "[encoded data removed]",
            "text/plain": [
              "<Figure size 1008x288 with 2 Axes>"
            ]
          },
          "metadata": {
            "tags": [],
            "needs_background": "light"
          }
        }
      ]
    },
    {
      "cell_type": "code",
      "metadata": {
        "id": "KNDe3mEsK877"
      },
      "source": [
        "# Save the model\r\n",
        "\r\n",
        "MODEL_PATH = \"./models/face_mask_detector.h5\"\r\n",
        "model.save(MODEL_PATH, save_format=\"h5\")"
      ],
      "execution_count": 18,
      "outputs": []
    },
    {
      "cell_type": "code",
      "metadata": {
        "colab": {
          "base_uri": "https://localhost:8080/"
        },
        "id": "MXoxUT-v2F6n",
        "outputId": "153e0f9b-0b11-48b2-fe87-0820b402e8d2"
      },
      "source": [
        "# Export into TensorFlow.js\r\n",
        "!pip install tensorflowjs\r\n",
        "\r\n",
        "import tensorflowjs as tfjs\r\n",
        "\r\n",
        "TFJS_MODEL_DIR = \"./models/tfjs\"\r\n",
        "tfjs.converters.save_keras_model(model, TFJS_MODEL_DIR)\r\n"
      ],
      "execution_count": 20,
      "outputs": [
        {
          "output_type": "stream",
          "text": [
            "Collecting tensorflowjs\n",
            "\u001b[?25l  Downloading https://files.pythonhosted.org/packages/f9/42/184dd8f0c2b4dd375e504cf9c7b305531760efeccd9a606401d27505669e/tensorflowjs-3.0.0-py3-none-any.whl (63kB)\n",
            "\r\u001b[K     |█████▏                          | 10kB 15.1MB/s eta 0:00:01\r\u001b[K     |██████████▍                     | 20kB 9.4MB/s eta 0:00:01\r\u001b[K     |███████████████▌                | 30kB 7.7MB/s eta 0:00:01\r\u001b[K     |████████████████████▊           | 40kB 7.0MB/s eta 0:00:01\r\u001b[K     |█████████████████████████▉      | 51kB 4.3MB/s eta 0:00:01\r\u001b[K     |███████████████████████████████ | 61kB 4.7MB/s eta 0:00:01\r\u001b[K     |████████████████████████████████| 71kB 3.4MB/s \n",
            "\u001b[?25hCollecting tensorflow-hub<0.10,>=0.7.0\n",
            "\u001b[?25l  Downloading https://files.pythonhosted.org/packages/ac/83/a7df82744a794107641dad1decaad017d82e25f0e1f761ac9204829eef96/tensorflow_hub-0.9.0-py2.py3-none-any.whl (103kB)\n",
            "\r\u001b[K     |███▏                            | 10kB 15.1MB/s eta 0:00:01\r\u001b[K     |██████▍                         | 20kB 18.2MB/s eta 0:00:01\r\u001b[K     |█████████▌                      | 30kB 9.1MB/s eta 0:00:01\r\u001b[K     |████████████▊                   | 40kB 7.1MB/s eta 0:00:01\r\u001b[K     |███████████████▉                | 51kB 7.8MB/s eta 0:00:01\r\u001b[K     |███████████████████             | 61kB 7.3MB/s eta 0:00:01\r\u001b[K     |██████████████████████▏         | 71kB 5.8MB/s eta 0:00:01\r\u001b[K     |█████████████████████████▍      | 81kB 5.8MB/s eta 0:00:01\r\u001b[K     |████████████████████████████▋   | 92kB 5.8MB/s eta 0:00:01\r\u001b[K     |███████████████████████████████▊| 102kB 5.7MB/s eta 0:00:01\r\u001b[K     |████████████████████████████████| 112kB 5.7MB/s \n",
            "\u001b[?25hRequirement already satisfied: tensorflow<3,>=2.1.0 in /usr/local/lib/python3.6/dist-packages (from tensorflowjs) (2.4.1)\n",
            "Requirement already satisfied: h5py<3,>=2.8.0 in /usr/local/lib/python3.6/dist-packages (from tensorflowjs) (2.10.0)\n",
            "Requirement already satisfied: six<2,>=1.12.0 in /usr/local/lib/python3.6/dist-packages (from tensorflowjs) (1.15.0)\n",
            "Requirement already satisfied: numpy>=1.12.0 in /usr/local/lib/python3.6/dist-packages (from tensorflow-hub<0.10,>=0.7.0->tensorflowjs) (1.19.5)\n",
            "Requirement already satisfied: protobuf>=3.8.0 in /usr/local/lib/python3.6/dist-packages (from tensorflow-hub<0.10,>=0.7.0->tensorflowjs) (3.12.4)\n",
            "Requirement already satisfied: termcolor~=1.1.0 in /usr/local/lib/python3.6/dist-packages (from tensorflow<3,>=2.1.0->tensorflowjs) (1.1.0)\n",
            "Requirement already satisfied: grpcio~=1.32.0 in /usr/local/lib/python3.6/dist-packages (from tensorflow<3,>=2.1.0->tensorflowjs) (1.32.0)\n",
            "Requirement already satisfied: flatbuffers~=1.12.0 in /usr/local/lib/python3.6/dist-packages (from tensorflow<3,>=2.1.0->tensorflowjs) (1.12)\n",
            "Requirement already satisfied: wrapt~=1.12.1 in /usr/local/lib/python3.6/dist-packages (from tensorflow<3,>=2.1.0->tensorflowjs) (1.12.1)\n",
            "Requirement already satisfied: gast==0.3.3 in /usr/local/lib/python3.6/dist-packages (from tensorflow<3,>=2.1.0->tensorflowjs) (0.3.3)\n",
            "Requirement already satisfied: opt-einsum~=3.3.0 in /usr/local/lib/python3.6/dist-packages (from tensorflow<3,>=2.1.0->tensorflowjs) (3.3.0)\n",
            "Requirement already satisfied: tensorboard~=2.4 in /usr/local/lib/python3.6/dist-packages (from tensorflow<3,>=2.1.0->tensorflowjs) (2.4.1)\n",
            "Requirement already satisfied: wheel~=0.35 in /usr/local/lib/python3.6/dist-packages (from tensorflow<3,>=2.1.0->tensorflowjs) (0.36.2)\n",
            "Requirement already satisfied: keras-preprocessing~=1.1.2 in /usr/local/lib/python3.6/dist-packages (from tensorflow<3,>=2.1.0->tensorflowjs) (1.1.2)\n",
            "Requirement already satisfied: google-pasta~=0.2 in /usr/local/lib/python3.6/dist-packages (from tensorflow<3,>=2.1.0->tensorflowjs) (0.2.0)\n",
            "Requirement already satisfied: tensorflow-estimator<2.5.0,>=2.4.0 in /usr/local/lib/python3.6/dist-packages (from tensorflow<3,>=2.1.0->tensorflowjs) (2.4.0)\n",
            "Requirement already satisfied: astunparse~=1.6.3 in /usr/local/lib/python3.6/dist-packages (from tensorflow<3,>=2.1.0->tensorflowjs) (1.6.3)\n",
            "Requirement already satisfied: typing-extensions~=3.7.4 in /usr/local/lib/python3.6/dist-packages (from tensorflow<3,>=2.1.0->tensorflowjs) (3.7.4.3)\n",
            "Requirement already satisfied: absl-py~=0.10 in /usr/local/lib/python3.6/dist-packages (from tensorflow<3,>=2.1.0->tensorflowjs) (0.10.0)\n",
            "Requirement already satisfied: setuptools in /usr/local/lib/python3.6/dist-packages (from protobuf>=3.8.0->tensorflow-hub<0.10,>=0.7.0->tensorflowjs) (53.0.0)\n",
            "Requirement already satisfied: requests<3,>=2.21.0 in /usr/local/lib/python3.6/dist-packages (from tensorboard~=2.4->tensorflow<3,>=2.1.0->tensorflowjs) (2.23.0)\n",
            "Requirement already satisfied: google-auth<2,>=1.6.3 in /usr/local/lib/python3.6/dist-packages (from tensorboard~=2.4->tensorflow<3,>=2.1.0->tensorflowjs) (1.25.0)\n",
            "Requirement already satisfied: markdown>=2.6.8 in /usr/local/lib/python3.6/dist-packages (from tensorboard~=2.4->tensorflow<3,>=2.1.0->tensorflowjs) (3.3.3)\n",
            "Requirement already satisfied: werkzeug>=0.11.15 in /usr/local/lib/python3.6/dist-packages (from tensorboard~=2.4->tensorflow<3,>=2.1.0->tensorflowjs) (1.0.1)\n",
            "Requirement already satisfied: tensorboard-plugin-wit>=1.6.0 in /usr/local/lib/python3.6/dist-packages (from tensorboard~=2.4->tensorflow<3,>=2.1.0->tensorflowjs) (1.8.0)\n",
            "Requirement already satisfied: google-auth-oauthlib<0.5,>=0.4.1 in /usr/local/lib/python3.6/dist-packages (from tensorboard~=2.4->tensorflow<3,>=2.1.0->tensorflowjs) (0.4.2)\n",
            "Requirement already satisfied: urllib3!=1.25.0,!=1.25.1,<1.26,>=1.21.1 in /usr/local/lib/python3.6/dist-packages (from requests<3,>=2.21.0->tensorboard~=2.4->tensorflow<3,>=2.1.0->tensorflowjs) (1.24.3)\n",
            "Requirement already satisfied: idna<3,>=2.5 in /usr/local/lib/python3.6/dist-packages (from requests<3,>=2.21.0->tensorboard~=2.4->tensorflow<3,>=2.1.0->tensorflowjs) (2.10)\n",
            "Requirement already satisfied: certifi>=2017.4.17 in /usr/local/lib/python3.6/dist-packages (from requests<3,>=2.21.0->tensorboard~=2.4->tensorflow<3,>=2.1.0->tensorflowjs) (2020.12.5)\n",
            "Requirement already satisfied: chardet<4,>=3.0.2 in /usr/local/lib/python3.6/dist-packages (from requests<3,>=2.21.0->tensorboard~=2.4->tensorflow<3,>=2.1.0->tensorflowjs) (3.0.4)\n",
            "Requirement already satisfied: pyasn1-modules>=0.2.1 in /usr/local/lib/python3.6/dist-packages (from google-auth<2,>=1.6.3->tensorboard~=2.4->tensorflow<3,>=2.1.0->tensorflowjs) (0.2.8)\n",
            "Requirement already satisfied: cachetools<5.0,>=2.0.0 in /usr/local/lib/python3.6/dist-packages (from google-auth<2,>=1.6.3->tensorboard~=2.4->tensorflow<3,>=2.1.0->tensorflowjs) (4.2.1)\n",
            "Requirement already satisfied: rsa<5,>=3.1.4; python_version >= \"3.6\" in /usr/local/lib/python3.6/dist-packages (from google-auth<2,>=1.6.3->tensorboard~=2.4->tensorflow<3,>=2.1.0->tensorflowjs) (4.7)\n",
            "Requirement already satisfied: importlib-metadata; python_version < \"3.8\" in /usr/local/lib/python3.6/dist-packages (from markdown>=2.6.8->tensorboard~=2.4->tensorflow<3,>=2.1.0->tensorflowjs) (3.4.0)\n",
            "Requirement already satisfied: requests-oauthlib>=0.7.0 in /usr/local/lib/python3.6/dist-packages (from google-auth-oauthlib<0.5,>=0.4.1->tensorboard~=2.4->tensorflow<3,>=2.1.0->tensorflowjs) (1.3.0)\n",
            "Requirement already satisfied: pyasn1<0.5.0,>=0.4.6 in /usr/local/lib/python3.6/dist-packages (from pyasn1-modules>=0.2.1->google-auth<2,>=1.6.3->tensorboard~=2.4->tensorflow<3,>=2.1.0->tensorflowjs) (0.4.8)\n",
            "Requirement already satisfied: zipp>=0.5 in /usr/local/lib/python3.6/dist-packages (from importlib-metadata; python_version < \"3.8\"->markdown>=2.6.8->tensorboard~=2.4->tensorflow<3,>=2.1.0->tensorflowjs) (3.4.0)\n",
            "Requirement already satisfied: oauthlib>=3.0.0 in /usr/local/lib/python3.6/dist-packages (from requests-oauthlib>=0.7.0->google-auth-oauthlib<0.5,>=0.4.1->tensorboard~=2.4->tensorflow<3,>=2.1.0->tensorflowjs) (3.1.0)\n",
            "Installing collected packages: tensorflow-hub, tensorflowjs\n",
            "  Found existing installation: tensorflow-hub 0.11.0\n",
            "    Uninstalling tensorflow-hub-0.11.0:\n",
            "      Successfully uninstalled tensorflow-hub-0.11.0\n",
            "Successfully installed tensorflow-hub-0.9.0 tensorflowjs-3.0.0\n"
          ],
          "name": "stdout"
        },
        {
          "output_type": "stream",
          "text": [
            "/usr/local/lib/python3.6/dist-packages/tensorflowjs/converters/keras_h5_conversion.py:123: H5pyDeprecationWarning: The default file mode will change to 'r' (read-only) in h5py 3.0. To suppress this warning, pass the mode you need to h5py.File(), or set the global default h5.get_config().default_file_mode, or set the environment variable H5PY_DEFAULT_READONLY=1. Available modes are: 'r', 'r+', 'w', 'w-'/'x', 'a'. See the docs for details.\n",
            "  return h5py.File(h5file)\n"
          ],
          "name": "stderr"
        }
      ]
    },
    {
      "cell_type": "code",
      "metadata": {
        "colab": {
          "base_uri": "https://localhost:8080/"
        },
        "id": "_B1em61sDmHQ",
        "outputId": "edda4909-ff61-4c73-eab0-8c2d38c1d88c"
      },
      "source": [
        "!zip -r /content/file.zip ./models"
      ],
      "execution_count": 22,
      "outputs": [
        {
          "output_type": "stream",
          "text": [
            "  adding: models/ (stored 0%)\n",
            "  adding: models/tfjs/ (stored 0%)\n",
            "  adding: models/tfjs/model.json (deflated 96%)\n",
            "  adding: models/tfjs/group1-shard1of3.bin (deflated 7%)\n",
            "  adding: models/tfjs/group1-shard2of3.bin (deflated 7%)\n",
            "  adding: models/tfjs/group1-shard3of3.bin (deflated 7%)\n",
            "  adding: models/face_mask_detector.h5 (deflated 10%)\n"
          ],
          "name": "stdout"
        }
      ]
    },
    {
      "cell_type": "code",
      "metadata": {
        "colab": {
          "base_uri": "https://localhost:8080/",
          "height": 16
        },
        "id": "hAgDB-GkFUX-",
        "outputId": "70a29c24-245d-48ec-9a96-8016a8bbdb9f"
      },
      "source": [
        "from google.colab import files\r\n",
        "files.download(\"file.zip\")"
      ],
      "execution_count": 24,
      "outputs": [
        {
          "output_type": "display_data",
          "data": {
            "application/javascript": [
              "\n",
              "    async function download(id, filename, size) {\n",
              "      if (!google.colab.kernel.accessAllowed) {\n",
              "        return;\n",
              "      }\n",
              "      const div = document.createElement('div');\n",
              "      const label = document.createElement('label');\n",
              "      label.textContent = `Downloading \"${filename}\": `;\n",
              "      div.appendChild(label);\n",
              "      const progress = document.createElement('progress');\n",
              "      progress.max = size;\n",
              "      div.appendChild(progress);\n",
              "      document.body.appendChild(div);\n",
              "\n",
              "      const buffers = [];\n",
              "      let downloaded = 0;\n",
              "\n",
              "      const channel = await google.colab.kernel.comms.open(id);\n",
              "      // Send a message to notify the kernel that we're ready.\n",
              "      channel.send({})\n",
              "\n",
              "      for await (const message of channel.messages) {\n",
              "        // Send a message to notify the kernel that we're ready.\n",
              "        channel.send({})\n",
              "        if (message.buffers) {\n",
              "          for (const buffer of message.buffers) {\n",
              "            buffers.push(buffer);\n",
              "            downloaded += buffer.byteLength;\n",
              "            progress.value = downloaded;\n",
              "          }\n",
              "        }\n",
              "      }\n",
              "      const blob = new Blob(buffers, {type: 'application/binary'});\n",
              "      const a = document.createElement('a');\n",
              "      a.href = window.URL.createObjectURL(blob);\n",
              "      a.download = filename;\n",
              "      div.appendChild(a);\n",
              "      a.click();\n",
              "      div.remove();\n",
              "    }\n",
              "  "
            ],
            "text/plain": [
              "<IPython.core.display.Javascript object>"
            ]
          },
          "metadata": {
            "tags": []
          }
        },
        {
          "output_type": "display_data",
          "data": {
            "application/javascript": [
              "download(\"download_2ceb8ac5-643f-453a-b522-a3a25b081b1d\", \"file.zip\", 19294076)"
            ],
            "text/plain": [
              "<IPython.core.display.Javascript object>"
            ]
          },
          "metadata": {
            "tags": []
          }
        }
      ]
    },
    {
      "cell_type": "code",
      "metadata": {
        "id": "XmwbmigSFhdF"
      },
      "source": [
        ""
      ],
      "execution_count": null,
      "outputs": []
    }
  ]
}